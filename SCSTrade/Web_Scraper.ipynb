{
 "cells": [
  {
   "cell_type": "code",
   "execution_count": 2,
   "metadata": {},
   "outputs": [],
   "source": [
    "import csv, time, lxml, json, requests\n",
    "import pandas as pd\n",
    "from pandas.io.json import json_normalize\n",
    "from datetime import datetime\n",
    "import bs4 as bs\n",
    "import urllib3 as urllib\n",
    "from plotly import graph_objs as go\n",
    "import matplotlib.pyplot as plt\n",
    "%matplotlib inline"
   ]
  },
  {
   "cell_type": "code",
   "execution_count": 3,
   "metadata": {},
   "outputs": [],
   "source": [
    "# don't need this anymore since I decided to go a different direction, will still keep the \n",
    "# the notebook just because I like the code\n",
    "\n",
    "# def get_urls():\n",
    "#     Base_url = \"http://www.scstrade.com\"\n",
    " \n",
    "#     # Build a dictionary of companies and their abbreviated names \n",
    "#     companies = {'Habib Bank Limited':'HBL', 'Engro Chemical':'ENGRO'}\n",
    "\n",
    "#     # Create a list of the news section urls of the respective companies \n",
    "#     return ['http://www.scstrade.com/stockscreening/SS_CompanySnapShot.aspx?symbol={}'.format(v) \n",
    "#                 for k,v in companies.items()]"
   ]
  },
  {
   "cell_type": "code",
   "execution_count": 24,
   "metadata": {},
   "outputs": [],
   "source": [
    "def jsontodataframe(): #collect OHLC data from scstrade\n",
    "\n",
    "    companies = {'Habib Bank Limited':'HBL','Engro Chemical':'ENGRO'}\n",
    "    url = 'http://www.scstrade.com/stockscreening/SS_CompanySnapShotHP.aspx/chart'\n",
    "\n",
    "    payload = {\"date1\":\"01/01/2019\",\"date2\":\"06/01/2019\",\"rows\":20,\"page\":1,\"sidx\":\"trading_Date\",\n",
    "    \"sord\":\"desc\"}\n",
    "    \n",
    "    for company in companies:\n",
    "        payload[\"par\"] = companies[company]\n",
    "        #print(payload)\n",
    "        json_data = requests.post(url, json=payload).json() #download the json POST request from scstrade\n",
    "        json_normalize(json_data)\n",
    "        df = pd.DataFrame(json_data) #convert the json to pandas dataframe\n",
    "        df = pd.io.json.json_normalize(json_data['d'], errors='ignore')\n",
    "        df.columns = ['Date', 'Open', 'High', 'Low', 'Close', 'Volume', 'Change'] #rename the columns to better names\n",
    "\n",
    "        df['Date'] = df['Date'].str.strip('/Date()')\n",
    "        df['Date'] = pd.to_datetime(df['Date'], origin='unix', unit='ms') #convert unix timestamp to pandas datetime and set the index\n",
    "        df['ID'] = companies[company]\n",
    "        df.set_index(['ID'], inplace=True)\n",
    "        #f = open(\"OHLC_values.csv\",\"a+\")\n",
    "        #f.write(companies[company]+\"\\n\")\n",
    "        #f.close()\n",
    "        df.to_csv(\"OHLC_values.csv\",mode=\"a\") #save .csv file for later usage"
   ]
  },
  {
   "cell_type": "code",
   "execution_count": 29,
   "metadata": {},
   "outputs": [],
   "source": [
    "def visualize_candlestick():\n",
    "    #visualizing our OHLC values with a candlestick graph across a time-frame (first half yearly quarter 2019)\n",
    "    \n",
    "     df = pd.read_csv(\"OHLC_values.csv\")\n",
    "     fig = go.Figure(data=[go.Candlestick(x=df['Date'],\n",
    "                 open=df['Open'],\n",
    "                 high=df['High'],\n",
    "                 low=df['Low'],\n",
    "                 close=df['Close'])])\n",
    "\n",
    "     fig.show()     "
   ]
  },
  {
   "cell_type": "code",
   "execution_count": 6,
   "metadata": {},
   "outputs": [],
   "source": [
    "def visualize_barchart(): \n",
    "    #so far this function is really simple but doing this with\n",
    "    #multiple par ID's and switching between them will be slightly tricky\n",
    "    #also need to find a way to just plot the month and not the entire date\n",
    "    \n",
    "    plt.bar(df['Date'], df['Change'], align='center', alpha=0.5)\n",
    "    plt.title('Date and Change in Stock Price')\n",
    "    plt.ylabel('Change')\n",
    "    plt.xlabel('Date')"
   ]
  },
  {
   "cell_type": "code",
   "execution_count": 25,
   "metadata": {},
   "outputs": [],
   "source": [
    "jsontodataframe()"
   ]
  },
  {
   "cell_type": "code",
   "execution_count": 35,
   "metadata": {},
   "outputs": [],
   "source": [
    "df = pd.read_csv(\"OHLC_values.csv\")"
   ]
  },
  {
   "cell_type": "code",
   "execution_count": null,
   "metadata": {},
   "outputs": [],
   "source": []
  }
 ],
 "metadata": {
  "kernelspec": {
   "display_name": "Python 3",
   "language": "python3",
   "name": "python3"
  },
  "language_info": {
   "codemirror_mode": {
    "name": "ipython",
    "version": 3
   },
   "file_extension": ".py",
   "mimetype": "text/x-python",
   "name": "python",
   "nbconvert_exporter": "python",
   "pygments_lexer": "ipython3",
   "version": "3.6.9"
  }
 },
 "nbformat": 4,
 "nbformat_minor": 2
}
