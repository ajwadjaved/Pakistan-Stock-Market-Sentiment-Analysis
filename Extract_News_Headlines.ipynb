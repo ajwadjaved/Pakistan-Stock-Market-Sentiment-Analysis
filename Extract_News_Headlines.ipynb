{
 "cells": [
  {
   "cell_type": "code",
   "execution_count": 1,
   "metadata": {},
   "outputs": [],
   "source": [
    "import pandas as pd\n",
    "from bs4 import BeautifulSoup as bs\n",
    "from lxml import html\n",
    "import requests"
   ]
  },
  {
   "cell_type": "code",
   "execution_count": 2,
   "metadata": {},
   "outputs": [],
   "source": [
    "companies = {'Habib Bank Limited':'HBL','Engro Chemical':'ENGRO'}\n",
    "\n",
    "url = [\"https://news.google.com/search?q={}&hl=en-PK&gl=PK&ceid=PK%3Aen\".format(v) for k,v in companies.items()]"
   ]
  },
  {
   "cell_type": "code",
   "execution_count": 3,
   "metadata": {},
   "outputs": [
    {
     "name": "stdout",
     "output_type": "stream",
     "text": [
      "['https://news.google.com/search?q=HBL&hl=en-PK&gl=PK&ceid=PK%3Aen', 'https://news.google.com/search?q=ENGRO&hl=en-PK&gl=PK&ceid=PK%3Aen']\n"
     ]
    }
   ],
   "source": [
    "# response = requests.get(url[0])\n",
    "# soup= bs(response.text, \"html.parser\")\n",
    "\n",
    "print(url)"
   ]
  },
  {
   "cell_type": "code",
   "execution_count": 4,
   "metadata": {},
   "outputs": [
    {
     "name": "stdout",
     "output_type": "stream",
     "text": [
      "[]\n",
      "\n"
     ]
    }
   ],
   "source": [
    "# Send request to get the web page\n",
    "# response = requests.get('https://news.google.com/search?q=ENGRO&hl=en-PK&gl=PK&ceid=PK%3Aen')\n",
    "\n",
    "response = requests.get(url[0])\n",
    "\n",
    "# Check if the request succeeded (response code 200)\n",
    "if (response.status_code == 200):\n",
    "\n",
    "    # Parse the html from the webpage\n",
    "    pagehtml = html.fromstring(response.text)\n",
    "\n",
    "# search for news headlines\n",
    "news = pagehtml.xpath('//h2[@class=\"esc-lead-article-title\"] \\\n",
    "                      /a/span[@class=\"titletext\"]/text()')\n",
    "\n",
    "print(news)\n",
    "\n",
    "# Print each news item in a new line\n",
    "print(\"\\n \\n\".join(news))\n",
    "\n",
    "# tf = open(\"headlines.txt\", \"w\")\n",
    "\n",
    "# tf.write(\"\\n \\n\".join(news).lower())\n",
    "\n",
    "# tf.close()\n",
    "# # puts as lower case in text file named headlines"
   ]
  },
  {
   "cell_type": "code",
   "execution_count": null,
   "metadata": {},
   "outputs": [],
   "source": []
  }
 ],
 "metadata": {
  "kernelspec": {
   "display_name": "Python 3",
   "language": "python3",
   "name": "python3"
  },
  "language_info": {
   "codemirror_mode": {
    "name": "ipython",
    "version": 3
   },
   "file_extension": ".py",
   "mimetype": "text/x-python",
   "name": "python",
   "nbconvert_exporter": "python",
   "pygments_lexer": "ipython3",
   "version": "3.6.9"
  }
 },
 "nbformat": 4,
 "nbformat_minor": 2
}
