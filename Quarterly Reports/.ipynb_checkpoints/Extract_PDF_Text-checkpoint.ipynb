{
 "cells": [
  {
   "cell_type": "code",
   "execution_count": 2,
   "metadata": {},
   "outputs": [],
   "source": [
    "import pandas as pd"
   ]
  },
  {
   "cell_type": "code",
   "execution_count": 5,
   "metadata": {},
   "outputs": [],
   "source": [
    "df = pd.read_csv(\"/home/duke/PSMSA/SCSTrade/OHLC_values.csv\") #do I have to specify the full path, how to generalize this?"
   ]
  },
  {
   "cell_type": "code",
   "execution_count": 6,
   "metadata": {},
   "outputs": [
    {
     "data": {
      "text/html": [
       "<div>\n",
       "<style scoped>\n",
       "    .dataframe tbody tr th:only-of-type {\n",
       "        vertical-align: middle;\n",
       "    }\n",
       "\n",
       "    .dataframe tbody tr th {\n",
       "        vertical-align: top;\n",
       "    }\n",
       "\n",
       "    .dataframe thead th {\n",
       "        text-align: right;\n",
       "    }\n",
       "</style>\n",
       "<table border=\"1\" class=\"dataframe\">\n",
       "  <thead>\n",
       "    <tr style=\"text-align: right;\">\n",
       "      <th></th>\n",
       "      <th>ID</th>\n",
       "      <th>Open</th>\n",
       "      <th>High</th>\n",
       "      <th>Low</th>\n",
       "      <th>Close</th>\n",
       "      <th>Volume</th>\n",
       "      <th>Change</th>\n",
       "    </tr>\n",
       "    <tr>\n",
       "      <th>Date</th>\n",
       "      <th></th>\n",
       "      <th></th>\n",
       "      <th></th>\n",
       "      <th></th>\n",
       "      <th></th>\n",
       "      <th></th>\n",
       "      <th></th>\n",
       "    </tr>\n",
       "  </thead>\n",
       "  <tbody>\n",
       "    <tr>\n",
       "      <th>2019-05-29</th>\n",
       "      <td>HBL</td>\n",
       "      <td>124.43</td>\n",
       "      <td>125.97</td>\n",
       "      <td>122.25</td>\n",
       "      <td>123.51</td>\n",
       "      <td>1838900</td>\n",
       "      <td>-0.92</td>\n",
       "    </tr>\n",
       "    <tr>\n",
       "      <th>2019-05-28</th>\n",
       "      <td>HBL</td>\n",
       "      <td>122.97</td>\n",
       "      <td>125.99</td>\n",
       "      <td>122.97</td>\n",
       "      <td>124.43</td>\n",
       "      <td>1465100</td>\n",
       "      <td>1.47</td>\n",
       "    </tr>\n",
       "    <tr>\n",
       "      <th>2019-05-27</th>\n",
       "      <td>HBL</td>\n",
       "      <td>126.74</td>\n",
       "      <td>127.00</td>\n",
       "      <td>122.00</td>\n",
       "      <td>122.96</td>\n",
       "      <td>2868700</td>\n",
       "      <td>-3.78</td>\n",
       "    </tr>\n",
       "    <tr>\n",
       "      <th>2019-05-26</th>\n",
       "      <td>HBL</td>\n",
       "      <td>126.00</td>\n",
       "      <td>127.99</td>\n",
       "      <td>125.00</td>\n",
       "      <td>126.74</td>\n",
       "      <td>575800</td>\n",
       "      <td>0.47</td>\n",
       "    </tr>\n",
       "    <tr>\n",
       "      <th>2019-05-23</th>\n",
       "      <td>HBL</td>\n",
       "      <td>127.13</td>\n",
       "      <td>128.48</td>\n",
       "      <td>125.51</td>\n",
       "      <td>126.27</td>\n",
       "      <td>3292600</td>\n",
       "      <td>-0.86</td>\n",
       "    </tr>\n",
       "  </tbody>\n",
       "</table>\n",
       "</div>"
      ],
      "text/plain": [
       "             ID    Open    High     Low   Close   Volume  Change\n",
       "Date                                                            \n",
       "2019-05-29  HBL  124.43  125.97  122.25  123.51  1838900   -0.92\n",
       "2019-05-28  HBL  122.97  125.99  122.97  124.43  1465100    1.47\n",
       "2019-05-27  HBL  126.74  127.00  122.00  122.96  2868700   -3.78\n",
       "2019-05-26  HBL  126.00  127.99  125.00  126.74   575800    0.47\n",
       "2019-05-23  HBL  127.13  128.48  125.51  126.27  3292600   -0.86"
      ]
     },
     "execution_count": 6,
     "metadata": {},
     "output_type": "execute_result"
    }
   ],
   "source": [
    "df.set_index('Date', inplace=True)\n",
    "df.head()"
   ]
  },
  {
   "cell_type": "code",
   "execution_count": 45,
   "metadata": {},
   "outputs": [],
   "source": [
    "#A pdf text extraction library was giving trash results so now I'll have to find another way to fnd correlation\n"
   ]
  },
  {
   "cell_type": "code",
   "execution_count": null,
   "metadata": {},
   "outputs": [],
   "source": []
  }
 ],
 "metadata": {
  "kernelspec": {
   "display_name": "Python 3",
   "language": "python3",
   "name": "python3"
  },
  "language_info": {
   "codemirror_mode": {
    "name": "ipython",
    "version": 3
   },
   "file_extension": ".py",
   "mimetype": "text/x-python",
   "name": "python",
   "nbconvert_exporter": "python",
   "pygments_lexer": "ipython3",
   "version": "3.6.9"
  }
 },
 "nbformat": 4,
 "nbformat_minor": 2
}
